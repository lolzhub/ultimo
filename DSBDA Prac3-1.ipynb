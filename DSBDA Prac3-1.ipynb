{
 "cells": [
  {
   "cell_type": "markdown",
   "metadata": {
    "id": "ayy_8uYpNj3s"
   },
   "source": [
    "# **Importing Pandas and numpy Libraries**"
   ]
  },
  {
   "cell_type": "code",
   "execution_count": 7,
   "metadata": {
    "executionInfo": {
     "elapsed": 14,
     "status": "ok",
     "timestamp": 1683792994053,
     "user": {
      "displayName": "aniket jagtap",
      "userId": "06279103900146340217"
     },
     "user_tz": -330
    },
    "id": "1QU_lK_JM0co"
   },
   "outputs": [],
   "source": [
    "import pandas as pd\n",
    "import numpy as np"
   ]
  },
  {
   "cell_type": "markdown",
   "metadata": {
    "id": "_tFe5YyvNovx"
   },
   "source": [
    "## **Reading Dataset and loading into pandas dataframe**:"
   ]
  },
  {
   "cell_type": "code",
   "execution_count": 8,
   "metadata": {
    "colab": {
     "base_uri": "https://localhost:8080/",
     "height": 73
    },
    "executionInfo": {
     "elapsed": 13697,
     "status": "ok",
     "timestamp": 1683793098388,
     "user": {
      "displayName": "aniket jagtap",
      "userId": "06279103900146340217"
     },
     "user_tz": -330
    },
    "id": "vFB0XlpqNF1c",
    "outputId": "c28058b9-fa1c-4f43-cd79-20c7cfd151d2"
   },
   "outputs": [],
   "source": [
    "# from google.colab import files\n",
    "# data_to_upload = files.upload()"
   ]
  },
  {
   "cell_type": "code",
   "execution_count": 9,
   "metadata": {
    "executionInfo": {
     "elapsed": 8,
     "status": "ok",
     "timestamp": 1683793100237,
     "user": {
      "displayName": "aniket jagtap",
      "userId": "06279103900146340217"
     },
     "user_tz": -330
    },
    "id": "rT9_TgrrNaDr"
   },
   "outputs": [],
   "source": [
    "df = pd.read_csv(\"prac3-1.csv\")"
   ]
  },
  {
   "cell_type": "code",
   "execution_count": 10,
   "metadata": {
    "colab": {
     "base_uri": "https://localhost:8080/",
     "height": 551
    },
    "executionInfo": {
     "elapsed": 9,
     "status": "ok",
     "timestamp": 1679033857560,
     "user": {
      "displayName": "Aissms Work",
      "userId": "06687545880108541609"
     },
     "user_tz": -330
    },
    "id": "J131EWkyNwri",
    "outputId": "badda38c-cd02-477a-9bae-a55c82cafb21"
   },
   "outputs": [
    {
     "data": {
      "text/html": [
       "<div>\n",
       "<style scoped>\n",
       "    .dataframe tbody tr th:only-of-type {\n",
       "        vertical-align: middle;\n",
       "    }\n",
       "\n",
       "    .dataframe tbody tr th {\n",
       "        vertical-align: top;\n",
       "    }\n",
       "\n",
       "    .dataframe thead th {\n",
       "        text-align: right;\n",
       "    }\n",
       "</style>\n",
       "<table border=\"1\" class=\"dataframe\">\n",
       "  <thead>\n",
       "    <tr style=\"text-align: right;\">\n",
       "      <th></th>\n",
       "      <th>Cust Id</th>\n",
       "      <th>Gender</th>\n",
       "      <th>Age</th>\n",
       "      <th>Income</th>\n",
       "    </tr>\n",
       "  </thead>\n",
       "  <tbody>\n",
       "    <tr>\n",
       "      <th>0</th>\n",
       "      <td>1</td>\n",
       "      <td>male</td>\n",
       "      <td>49</td>\n",
       "      <td>99793</td>\n",
       "    </tr>\n",
       "    <tr>\n",
       "      <th>1</th>\n",
       "      <td>2</td>\n",
       "      <td>male</td>\n",
       "      <td>41</td>\n",
       "      <td>163984</td>\n",
       "    </tr>\n",
       "    <tr>\n",
       "      <th>2</th>\n",
       "      <td>3</td>\n",
       "      <td>male</td>\n",
       "      <td>53</td>\n",
       "      <td>119025</td>\n",
       "    </tr>\n",
       "    <tr>\n",
       "      <th>3</th>\n",
       "      <td>4</td>\n",
       "      <td>male</td>\n",
       "      <td>39</td>\n",
       "      <td>142759</td>\n",
       "    </tr>\n",
       "    <tr>\n",
       "      <th>4</th>\n",
       "      <td>5</td>\n",
       "      <td>male</td>\n",
       "      <td>47</td>\n",
       "      <td>117799</td>\n",
       "    </tr>\n",
       "    <tr>\n",
       "      <th>...</th>\n",
       "      <td>...</td>\n",
       "      <td>...</td>\n",
       "      <td>...</td>\n",
       "      <td>...</td>\n",
       "    </tr>\n",
       "    <tr>\n",
       "      <th>95</th>\n",
       "      <td>96</td>\n",
       "      <td>female</td>\n",
       "      <td>25</td>\n",
       "      <td>148032</td>\n",
       "    </tr>\n",
       "    <tr>\n",
       "      <th>96</th>\n",
       "      <td>97</td>\n",
       "      <td>female</td>\n",
       "      <td>21</td>\n",
       "      <td>84272</td>\n",
       "    </tr>\n",
       "    <tr>\n",
       "      <th>97</th>\n",
       "      <td>98</td>\n",
       "      <td>female</td>\n",
       "      <td>54</td>\n",
       "      <td>38850</td>\n",
       "    </tr>\n",
       "    <tr>\n",
       "      <th>98</th>\n",
       "      <td>99</td>\n",
       "      <td>female</td>\n",
       "      <td>36</td>\n",
       "      <td>184195</td>\n",
       "    </tr>\n",
       "    <tr>\n",
       "      <th>99</th>\n",
       "      <td>100</td>\n",
       "      <td>female</td>\n",
       "      <td>42</td>\n",
       "      <td>72030</td>\n",
       "    </tr>\n",
       "  </tbody>\n",
       "</table>\n",
       "<p>100 rows × 4 columns</p>\n",
       "</div>"
      ],
      "text/plain": [
       "    Cust Id  Gender  Age  Income\n",
       "0         1    male   49   99793\n",
       "1         2    male   41  163984\n",
       "2         3    male   53  119025\n",
       "3         4    male   39  142759\n",
       "4         5    male   47  117799\n",
       "..      ...     ...  ...     ...\n",
       "95       96  female   25  148032\n",
       "96       97  female   21   84272\n",
       "97       98  female   54   38850\n",
       "98       99  female   36  184195\n",
       "99      100  female   42   72030\n",
       "\n",
       "[100 rows x 4 columns]"
      ]
     },
     "execution_count": 10,
     "metadata": {},
     "output_type": "execute_result"
    }
   ],
   "source": [
    "df"
   ]
  },
  {
   "cell_type": "code",
   "execution_count": 11,
   "metadata": {
    "colab": {
     "base_uri": "https://localhost:8080/"
    },
    "executionInfo": {
     "elapsed": 409,
     "status": "ok",
     "timestamp": 1683793106654,
     "user": {
      "displayName": "aniket jagtap",
      "userId": "06279103900146340217"
     },
     "user_tz": -330
    },
    "id": "_6am_Ou0N3Ex",
    "outputId": "35ce7268-75ea-4ba4-e164-9cfabe148b1f"
   },
   "outputs": [
    {
     "name": "stdout",
     "output_type": "stream",
     "text": [
      "<class 'pandas.core.frame.DataFrame'>\n",
      "RangeIndex: 100 entries, 0 to 99\n",
      "Data columns (total 4 columns):\n",
      " #   Column   Non-Null Count  Dtype \n",
      "---  ------   --------------  ----- \n",
      " 0   Cust Id  100 non-null    int64 \n",
      " 1   Gender   100 non-null    object\n",
      " 2   Age      100 non-null    int64 \n",
      " 3   Income   100 non-null    int64 \n",
      "dtypes: int64(3), object(1)\n",
      "memory usage: 3.3+ KB\n"
     ]
    }
   ],
   "source": [
    "df.info()"
   ]
  },
  {
   "cell_type": "code",
   "execution_count": 12,
   "metadata": {
    "colab": {
     "base_uri": "https://localhost:8080/",
     "height": 300
    },
    "executionInfo": {
     "elapsed": 373,
     "status": "ok",
     "timestamp": 1683793113815,
     "user": {
      "displayName": "aniket jagtap",
      "userId": "06279103900146340217"
     },
     "user_tz": -330
    },
    "id": "A99GSfpWN4-R",
    "outputId": "65b7b361-be07-4a28-b266-3f0fce9b2f94"
   },
   "outputs": [
    {
     "data": {
      "text/html": [
       "<div>\n",
       "<style scoped>\n",
       "    .dataframe tbody tr th:only-of-type {\n",
       "        vertical-align: middle;\n",
       "    }\n",
       "\n",
       "    .dataframe tbody tr th {\n",
       "        vertical-align: top;\n",
       "    }\n",
       "\n",
       "    .dataframe thead th {\n",
       "        text-align: right;\n",
       "    }\n",
       "</style>\n",
       "<table border=\"1\" class=\"dataframe\">\n",
       "  <thead>\n",
       "    <tr style=\"text-align: right;\">\n",
       "      <th></th>\n",
       "      <th>Cust Id</th>\n",
       "      <th>Age</th>\n",
       "      <th>Income</th>\n",
       "    </tr>\n",
       "  </thead>\n",
       "  <tbody>\n",
       "    <tr>\n",
       "      <th>count</th>\n",
       "      <td>100.000000</td>\n",
       "      <td>100.000000</td>\n",
       "      <td>100.00000</td>\n",
       "    </tr>\n",
       "    <tr>\n",
       "      <th>mean</th>\n",
       "      <td>50.500000</td>\n",
       "      <td>40.870000</td>\n",
       "      <td>117057.18000</td>\n",
       "    </tr>\n",
       "    <tr>\n",
       "      <th>std</th>\n",
       "      <td>29.011492</td>\n",
       "      <td>11.642533</td>\n",
       "      <td>46470.69988</td>\n",
       "    </tr>\n",
       "    <tr>\n",
       "      <th>min</th>\n",
       "      <td>1.000000</td>\n",
       "      <td>20.000000</td>\n",
       "      <td>37622.00000</td>\n",
       "    </tr>\n",
       "    <tr>\n",
       "      <th>25%</th>\n",
       "      <td>25.750000</td>\n",
       "      <td>32.750000</td>\n",
       "      <td>78456.00000</td>\n",
       "    </tr>\n",
       "    <tr>\n",
       "      <th>50%</th>\n",
       "      <td>50.500000</td>\n",
       "      <td>42.500000</td>\n",
       "      <td>118316.00000</td>\n",
       "    </tr>\n",
       "    <tr>\n",
       "      <th>75%</th>\n",
       "      <td>75.250000</td>\n",
       "      <td>49.000000</td>\n",
       "      <td>156036.75000</td>\n",
       "    </tr>\n",
       "    <tr>\n",
       "      <th>max</th>\n",
       "      <td>100.000000</td>\n",
       "      <td>60.000000</td>\n",
       "      <td>198663.00000</td>\n",
       "    </tr>\n",
       "  </tbody>\n",
       "</table>\n",
       "</div>"
      ],
      "text/plain": [
       "          Cust Id         Age        Income\n",
       "count  100.000000  100.000000     100.00000\n",
       "mean    50.500000   40.870000  117057.18000\n",
       "std     29.011492   11.642533   46470.69988\n",
       "min      1.000000   20.000000   37622.00000\n",
       "25%     25.750000   32.750000   78456.00000\n",
       "50%     50.500000   42.500000  118316.00000\n",
       "75%     75.250000   49.000000  156036.75000\n",
       "max    100.000000   60.000000  198663.00000"
      ]
     },
     "execution_count": 12,
     "metadata": {},
     "output_type": "execute_result"
    }
   ],
   "source": [
    "df.describe()"
   ]
  },
  {
   "cell_type": "code",
   "execution_count": 13,
   "metadata": {
    "colab": {
     "base_uri": "https://localhost:8080/",
     "height": 394
    },
    "executionInfo": {
     "elapsed": 7,
     "status": "ok",
     "timestamp": 1679034022565,
     "user": {
      "displayName": "Aissms Work",
      "userId": "06687545880108541609"
     },
     "user_tz": -330
    },
    "id": "jNhlcJlYN7jZ",
    "outputId": "dd831683-2abe-41b9-ab9f-51ab4ac08f58"
   },
   "outputs": [
    {
     "data": {
      "text/html": [
       "<div>\n",
       "<style scoped>\n",
       "    .dataframe tbody tr th:only-of-type {\n",
       "        vertical-align: middle;\n",
       "    }\n",
       "\n",
       "    .dataframe tbody tr th {\n",
       "        vertical-align: top;\n",
       "    }\n",
       "\n",
       "    .dataframe thead th {\n",
       "        text-align: right;\n",
       "    }\n",
       "</style>\n",
       "<table border=\"1\" class=\"dataframe\">\n",
       "  <thead>\n",
       "    <tr style=\"text-align: right;\">\n",
       "      <th></th>\n",
       "      <th>Cust Id</th>\n",
       "      <th>Gender</th>\n",
       "      <th>Age</th>\n",
       "      <th>Income</th>\n",
       "    </tr>\n",
       "  </thead>\n",
       "  <tbody>\n",
       "    <tr>\n",
       "      <th>count</th>\n",
       "      <td>100.000000</td>\n",
       "      <td>100</td>\n",
       "      <td>100.000000</td>\n",
       "      <td>100.00000</td>\n",
       "    </tr>\n",
       "    <tr>\n",
       "      <th>unique</th>\n",
       "      <td>NaN</td>\n",
       "      <td>2</td>\n",
       "      <td>NaN</td>\n",
       "      <td>NaN</td>\n",
       "    </tr>\n",
       "    <tr>\n",
       "      <th>top</th>\n",
       "      <td>NaN</td>\n",
       "      <td>male</td>\n",
       "      <td>NaN</td>\n",
       "      <td>NaN</td>\n",
       "    </tr>\n",
       "    <tr>\n",
       "      <th>freq</th>\n",
       "      <td>NaN</td>\n",
       "      <td>50</td>\n",
       "      <td>NaN</td>\n",
       "      <td>NaN</td>\n",
       "    </tr>\n",
       "    <tr>\n",
       "      <th>mean</th>\n",
       "      <td>50.500000</td>\n",
       "      <td>NaN</td>\n",
       "      <td>40.870000</td>\n",
       "      <td>117057.18000</td>\n",
       "    </tr>\n",
       "    <tr>\n",
       "      <th>std</th>\n",
       "      <td>29.011492</td>\n",
       "      <td>NaN</td>\n",
       "      <td>11.642533</td>\n",
       "      <td>46470.69988</td>\n",
       "    </tr>\n",
       "    <tr>\n",
       "      <th>min</th>\n",
       "      <td>1.000000</td>\n",
       "      <td>NaN</td>\n",
       "      <td>20.000000</td>\n",
       "      <td>37622.00000</td>\n",
       "    </tr>\n",
       "    <tr>\n",
       "      <th>25%</th>\n",
       "      <td>25.750000</td>\n",
       "      <td>NaN</td>\n",
       "      <td>32.750000</td>\n",
       "      <td>78456.00000</td>\n",
       "    </tr>\n",
       "    <tr>\n",
       "      <th>50%</th>\n",
       "      <td>50.500000</td>\n",
       "      <td>NaN</td>\n",
       "      <td>42.500000</td>\n",
       "      <td>118316.00000</td>\n",
       "    </tr>\n",
       "    <tr>\n",
       "      <th>75%</th>\n",
       "      <td>75.250000</td>\n",
       "      <td>NaN</td>\n",
       "      <td>49.000000</td>\n",
       "      <td>156036.75000</td>\n",
       "    </tr>\n",
       "    <tr>\n",
       "      <th>max</th>\n",
       "      <td>100.000000</td>\n",
       "      <td>NaN</td>\n",
       "      <td>60.000000</td>\n",
       "      <td>198663.00000</td>\n",
       "    </tr>\n",
       "  </tbody>\n",
       "</table>\n",
       "</div>"
      ],
      "text/plain": [
       "           Cust Id Gender         Age        Income\n",
       "count   100.000000    100  100.000000     100.00000\n",
       "unique         NaN      2         NaN           NaN\n",
       "top            NaN   male         NaN           NaN\n",
       "freq           NaN     50         NaN           NaN\n",
       "mean     50.500000    NaN   40.870000  117057.18000\n",
       "std      29.011492    NaN   11.642533   46470.69988\n",
       "min       1.000000    NaN   20.000000   37622.00000\n",
       "25%      25.750000    NaN   32.750000   78456.00000\n",
       "50%      50.500000    NaN   42.500000  118316.00000\n",
       "75%      75.250000    NaN   49.000000  156036.75000\n",
       "max     100.000000    NaN   60.000000  198663.00000"
      ]
     },
     "execution_count": 13,
     "metadata": {},
     "output_type": "execute_result"
    }
   ],
   "source": [
    "df.describe(include = \"all\")"
   ]
  },
  {
   "cell_type": "markdown",
   "metadata": {
    "id": "1sIepq-eOiOj"
   },
   "source": [
    "## **Group the dataset by Gender and income**"
   ]
  },
  {
   "cell_type": "code",
   "execution_count": 14,
   "metadata": {
    "colab": {
     "base_uri": "https://localhost:8080/",
     "height": 143
    },
    "executionInfo": {
     "elapsed": 452,
     "status": "ok",
     "timestamp": 1683793157739,
     "user": {
      "displayName": "aniket jagtap",
      "userId": "06279103900146340217"
     },
     "user_tz": -330
    },
    "id": "7RgGtSoSOfXy",
    "outputId": "f7d4da40-f81c-4d06-cfd1-0e9f890be0c2"
   },
   "outputs": [
    {
     "data": {
      "text/html": [
       "<div>\n",
       "<style scoped>\n",
       "    .dataframe tbody tr th:only-of-type {\n",
       "        vertical-align: middle;\n",
       "    }\n",
       "\n",
       "    .dataframe tbody tr th {\n",
       "        vertical-align: top;\n",
       "    }\n",
       "\n",
       "    .dataframe thead th {\n",
       "        text-align: right;\n",
       "    }\n",
       "</style>\n",
       "<table border=\"1\" class=\"dataframe\">\n",
       "  <thead>\n",
       "    <tr style=\"text-align: right;\">\n",
       "      <th></th>\n",
       "      <th>count</th>\n",
       "      <th>mean</th>\n",
       "      <th>std</th>\n",
       "      <th>min</th>\n",
       "      <th>25%</th>\n",
       "      <th>50%</th>\n",
       "      <th>75%</th>\n",
       "      <th>max</th>\n",
       "    </tr>\n",
       "    <tr>\n",
       "      <th>Gender</th>\n",
       "      <th></th>\n",
       "      <th></th>\n",
       "      <th></th>\n",
       "      <th></th>\n",
       "      <th></th>\n",
       "      <th></th>\n",
       "      <th></th>\n",
       "      <th></th>\n",
       "    </tr>\n",
       "  </thead>\n",
       "  <tbody>\n",
       "    <tr>\n",
       "      <th>female</th>\n",
       "      <td>50.0</td>\n",
       "      <td>111747.06</td>\n",
       "      <td>46517.170937</td>\n",
       "      <td>38710.0</td>\n",
       "      <td>73303.75</td>\n",
       "      <td>111321.0</td>\n",
       "      <td>146871.75</td>\n",
       "      <td>195390.0</td>\n",
       "    </tr>\n",
       "    <tr>\n",
       "      <th>male</th>\n",
       "      <td>50.0</td>\n",
       "      <td>122367.30</td>\n",
       "      <td>46278.839644</td>\n",
       "      <td>37622.0</td>\n",
       "      <td>82910.50</td>\n",
       "      <td>120726.5</td>\n",
       "      <td>158891.25</td>\n",
       "      <td>198663.0</td>\n",
       "    </tr>\n",
       "  </tbody>\n",
       "</table>\n",
       "</div>"
      ],
      "text/plain": [
       "        count       mean           std      min       25%       50%  \\\n",
       "Gender                                                                \n",
       "female   50.0  111747.06  46517.170937  38710.0  73303.75  111321.0   \n",
       "male     50.0  122367.30  46278.839644  37622.0  82910.50  120726.5   \n",
       "\n",
       "              75%       max  \n",
       "Gender                       \n",
       "female  146871.75  195390.0  \n",
       "male    158891.25  198663.0  "
      ]
     },
     "execution_count": 14,
     "metadata": {},
     "output_type": "execute_result"
    }
   ],
   "source": [
    "summary = df.groupby(\"Gender\")[\"Income\"].describe(include = \"all\")\n",
    "\n",
    "summary"
   ]
  },
  {
   "cell_type": "markdown",
   "metadata": {
    "id": "P407b3lBPgoz"
   },
   "source": [
    "## **Count the gender**"
   ]
  },
  {
   "cell_type": "code",
   "execution_count": 15,
   "metadata": {
    "colab": {
     "base_uri": "https://localhost:8080/"
    },
    "executionInfo": {
     "elapsed": 448,
     "status": "ok",
     "timestamp": 1683793166079,
     "user": {
      "displayName": "aniket jagtap",
      "userId": "06279103900146340217"
     },
     "user_tz": -330
    },
    "id": "XUFXNkp4O65T",
    "outputId": "e43daae9-f19c-4524-e8ae-b3cf8b0940df"
   },
   "outputs": [
    {
     "data": {
      "text/plain": [
       "[50, 50]"
      ]
     },
     "execution_count": 15,
     "metadata": {},
     "output_type": "execute_result"
    }
   ],
   "source": [
    "counts = df[\"Gender\"].value_counts().tolist()\n",
    "counts"
   ]
  },
  {
   "cell_type": "markdown",
   "metadata": {
    "id": "pL37g1f6QPYr"
   },
   "source": [
    "## **Perform required operations**"
   ]
  },
  {
   "cell_type": "code",
   "execution_count": 16,
   "metadata": {
    "colab": {
     "base_uri": "https://localhost:8080/"
    },
    "executionInfo": {
     "elapsed": 8,
     "status": "ok",
     "timestamp": 1679034580889,
     "user": {
      "displayName": "Aissms Work",
      "userId": "06687545880108541609"
     },
     "user_tz": -330
    },
    "id": "cqKaisa1P3gL",
    "outputId": "299c860c-7c0a-46fb-f1f1-56fcceb491d0"
   },
   "outputs": [
    {
     "data": {
      "text/plain": [
       "Gender\n",
       "female    38710\n",
       "male      37622\n",
       "Name: Income, dtype: int64"
      ]
     },
     "execution_count": 16,
     "metadata": {},
     "output_type": "execute_result"
    }
   ],
   "source": [
    "df.groupby(\"Gender\")[\"Income\"].min()"
   ]
  },
  {
   "cell_type": "code",
   "execution_count": 17,
   "metadata": {
    "colab": {
     "base_uri": "https://localhost:8080/"
    },
    "executionInfo": {
     "elapsed": 8,
     "status": "ok",
     "timestamp": 1679034638663,
     "user": {
      "displayName": "Aissms Work",
      "userId": "06687545880108541609"
     },
     "user_tz": -330
    },
    "id": "Ql2be66OQqDj",
    "outputId": "30f3e7cd-0f88-43a5-f5ed-6ae53c97bc7b"
   },
   "outputs": [
    {
     "data": {
      "text/plain": [
       "Gender\n",
       "female    195390\n",
       "male      198663\n",
       "Name: Income, dtype: int64"
      ]
     },
     "execution_count": 17,
     "metadata": {},
     "output_type": "execute_result"
    }
   ],
   "source": [
    "df.groupby(\"Gender\")[\"Income\"].max()"
   ]
  },
  {
   "cell_type": "code",
   "execution_count": 18,
   "metadata": {
    "colab": {
     "base_uri": "https://localhost:8080/"
    },
    "executionInfo": {
     "elapsed": 5,
     "status": "ok",
     "timestamp": 1679034672534,
     "user": {
      "displayName": "Aissms Work",
      "userId": "06687545880108541609"
     },
     "user_tz": -330
    },
    "id": "uhV_A2GSQ12D",
    "outputId": "ddb61b1d-9a4d-4d61-bbd1-32ca73bff3cd"
   },
   "outputs": [
    {
     "data": {
      "text/plain": [
       "Gender\n",
       "female    111747.06\n",
       "male      122367.30\n",
       "Name: Income, dtype: float64"
      ]
     },
     "execution_count": 18,
     "metadata": {},
     "output_type": "execute_result"
    }
   ],
   "source": [
    "df.groupby(\"Gender\")[\"Income\"].mean()"
   ]
  },
  {
   "cell_type": "code",
   "execution_count": 19,
   "metadata": {
    "colab": {
     "base_uri": "https://localhost:8080/"
    },
    "executionInfo": {
     "elapsed": 5,
     "status": "ok",
     "timestamp": 1679034678846,
     "user": {
      "displayName": "Aissms Work",
      "userId": "06687545880108541609"
     },
     "user_tz": -330
    },
    "id": "DgxGygGIQ-Ap",
    "outputId": "c89f1855-1a8b-450b-f871-1bd2aa0ccf21"
   },
   "outputs": [
    {
     "data": {
      "text/plain": [
       "Gender\n",
       "female    111321.0\n",
       "male      120726.5\n",
       "Name: Income, dtype: float64"
      ]
     },
     "execution_count": 19,
     "metadata": {},
     "output_type": "execute_result"
    }
   ],
   "source": [
    "df.groupby(\"Gender\")[\"Income\"].median()"
   ]
  },
  {
   "cell_type": "code",
   "execution_count": 20,
   "metadata": {
    "colab": {
     "base_uri": "https://localhost:8080/"
    },
    "executionInfo": {
     "elapsed": 7,
     "status": "ok",
     "timestamp": 1679034695269,
     "user": {
      "displayName": "Aissms Work",
      "userId": "06687545880108541609"
     },
     "user_tz": -330
    },
    "id": "hcFI0SU_Q_nz",
    "outputId": "aac9b5c3-0607-44de-ee16-0fbe7f34112e"
   },
   "outputs": [
    {
     "data": {
      "text/plain": [
       "Gender\n",
       "female    46517.170937\n",
       "male      46278.839644\n",
       "Name: Income, dtype: float64"
      ]
     },
     "execution_count": 20,
     "metadata": {},
     "output_type": "execute_result"
    }
   ],
   "source": [
    "df.groupby(\"Gender\")[\"Income\"].std()"
   ]
  },
  {
   "cell_type": "code",
   "execution_count": 21,
   "metadata": {
    "colab": {
     "base_uri": "https://localhost:8080/"
    },
    "executionInfo": {
     "elapsed": 6,
     "status": "ok",
     "timestamp": 1679034728867,
     "user": {
      "displayName": "Aissms Work",
      "userId": "06687545880108541609"
     },
     "user_tz": -330
    },
    "id": "BPhKKm70RDY6",
    "outputId": "55d5f6d9-489b-42c7-df03-3ff94a37336d"
   },
   "outputs": [
    {
     "data": {
      "text/plain": [
       "Gender\n",
       "female    73303.75\n",
       "male      82910.50\n",
       "Name: Income, dtype: float64"
      ]
     },
     "execution_count": 21,
     "metadata": {},
     "output_type": "execute_result"
    }
   ],
   "source": [
    "df.groupby(\"Gender\")[\"Income\"].quantile(0.25)"
   ]
  },
  {
   "cell_type": "code",
   "execution_count": 22,
   "metadata": {
    "colab": {
     "base_uri": "https://localhost:8080/"
    },
    "executionInfo": {
     "elapsed": 5,
     "status": "ok",
     "timestamp": 1679034746033,
     "user": {
      "displayName": "Aissms Work",
      "userId": "06687545880108541609"
     },
     "user_tz": -330
    },
    "id": "RKDLPbzrRL4T",
    "outputId": "6eb739e5-568b-4aa3-cf41-d25fd258e5ab"
   },
   "outputs": [
    {
     "data": {
      "text/plain": [
       "Gender\n",
       "female    111321.0\n",
       "male      120726.5\n",
       "Name: Income, dtype: float64"
      ]
     },
     "execution_count": 22,
     "metadata": {},
     "output_type": "execute_result"
    }
   ],
   "source": [
    "df.groupby(\"Gender\")[\"Income\"].quantile(0.5)"
   ]
  },
  {
   "cell_type": "code",
   "execution_count": 23,
   "metadata": {
    "colab": {
     "base_uri": "https://localhost:8080/"
    },
    "executionInfo": {
     "elapsed": 4,
     "status": "ok",
     "timestamp": 1679034756051,
     "user": {
      "displayName": "Aissms Work",
      "userId": "06687545880108541609"
     },
     "user_tz": -330
    },
    "id": "PWyaqkypRP5T",
    "outputId": "78f6b005-6f2c-4267-f1db-8f0644064c5f"
   },
   "outputs": [
    {
     "data": {
      "text/plain": [
       "Gender\n",
       "female    146871.75\n",
       "male      158891.25\n",
       "Name: Income, dtype: float64"
      ]
     },
     "execution_count": 23,
     "metadata": {},
     "output_type": "execute_result"
    }
   ],
   "source": [
    "df.groupby(\"Gender\")[\"Income\"].quantile(0.75)"
   ]
  },
  {
   "cell_type": "code",
   "execution_count": null,
   "metadata": {
    "id": "EX77ngfcRShT"
   },
   "outputs": [],
   "source": []
  }
 ],
 "metadata": {
  "colab": {
   "provenance": []
  },
  "kernelspec": {
   "display_name": "Python 3 (ipykernel)",
   "language": "python",
   "name": "python3"
  },
  "language_info": {
   "codemirror_mode": {
    "name": "ipython",
    "version": 3
   },
   "file_extension": ".py",
   "mimetype": "text/x-python",
   "name": "python",
   "nbconvert_exporter": "python",
   "pygments_lexer": "ipython3",
   "version": "3.11.3"
  }
 },
 "nbformat": 4,
 "nbformat_minor": 1
}
